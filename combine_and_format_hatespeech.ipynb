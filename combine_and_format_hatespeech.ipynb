{
  "nbformat": 4,
  "nbformat_minor": 0,
  "metadata": {
    "colab": {
      "name": "combine_and_format_hatespeech.ipynb",
      "provenance": []
    },
    "kernelspec": {
      "name": "python3",
      "display_name": "Python 3"
    }
  },
  "cells": [
    {
      "cell_type": "code",
      "metadata": {
        "id": "XbxBOTq-gh2x"
      },
      "source": [
        "import sys\n",
        "import torch\n",
        "import torchtext\n",
        "!pip3 install fastai\n",
        "import fastai\n",
        "import re\n",
        "import pandas as pd \n",
        "import numpy as np \n",
        "import matplotlib.pyplot as plt \n",
        "import seaborn as sns\n",
        "import string\n",
        "import nltk\n",
        "import warnings \n",
        "import pandas as pd\n",
        "import torchtext\n",
        "from fastai.text import *\n"
      ],
      "execution_count": null,
      "outputs": []
    },
    {
      "cell_type": "code",
      "metadata": {
        "colab": {
          "base_uri": "https://localhost:8080/"
        },
        "id": "7DFP6wvMf5DC",
        "outputId": "6d7f4d34-400c-48b5-aa0c-a5044f2620e5"
      },
      "source": [
        "# Mount gdrive\n",
        "from google.colab import drive\n",
        "drive.mount('/content/gdrive', force_remount=True)\n",
        "\n",
        "data_path =  '/content/gdrive/My Drive/APS360/APS360: Team Project/Project/Project Data' \n",
        "hate_tweets_path = data_path + '/hatespeech' + \"/stage2tweets.csv\"\n",
        "p2p_path = data_path + '/hatespeech' + '/p2p'+'/tweets.csv'\n",
        "\n",
        "# Hatespeech Data\n",
        "data_hatespeech_1 = pd.read_csv(hate_tweets_path)\n",
        "data_hatespeech_2 = pd.read_csv(p2p_path)"
      ],
      "execution_count": null,
      "outputs": [
        {
          "output_type": "stream",
          "text": [
            "Mounted at /content/gdrive\n"
          ],
          "name": "stdout"
        }
      ]
    },
    {
      "cell_type": "code",
      "metadata": {
        "id": "lsEBgJGjh2uD"
      },
      "source": [
        "def check_balance(ds):\n",
        "  num_neg = 0\n",
        "  num_pos=0\n",
        "  for example in ds :\n",
        "  #print(str(example.label)+\", \"+str(example.tweet))\n",
        "    if example.label == 1:\n",
        "      num_pos +=1\n",
        "    elif example.label == 0:\n",
        "      num_neg +=1\n",
        "  print(\"neg:\" +str(num_neg)+\" pos:\" +str(num_pos))"
      ],
      "execution_count": null,
      "outputs": []
    },
    {
      "cell_type": "code",
      "metadata": {
        "colab": {
          "base_uri": "https://localhost:8080/",
          "height": 204
        },
        "id": "73qbAmjxgWuh",
        "outputId": "b76532bd-1666-45cd-8322-585b461ea112"
      },
      "source": [
        "data_hatespeech_2 = data_hatespeech_2.transpose()\n",
        "data_hatespeech_2.columns = ['tweet']\n",
        "\n",
        "length = data_hatespeech_2.shape[0]\n",
        "data_hatespeech_2['hate_speech'] = np.ones(length)\n",
        "\n",
        "data_hatespeech_2 = data_hatespeech_2.reset_index()\n",
        "data_hatespeech_2.head()"
      ],
      "execution_count": null,
      "outputs": [
        {
          "output_type": "execute_result",
          "data": {
            "text/html": [
              "<div>\n",
              "<style scoped>\n",
              "    .dataframe tbody tr th:only-of-type {\n",
              "        vertical-align: middle;\n",
              "    }\n",
              "\n",
              "    .dataframe tbody tr th {\n",
              "        vertical-align: top;\n",
              "    }\n",
              "\n",
              "    .dataframe thead th {\n",
              "        text-align: right;\n",
              "    }\n",
              "</style>\n",
              "<table border=\"1\" class=\"dataframe\">\n",
              "  <thead>\n",
              "    <tr style=\"text-align: right;\">\n",
              "      <th></th>\n",
              "      <th>index</th>\n",
              "      <th>tweet</th>\n",
              "      <th>hate_speech</th>\n",
              "    </tr>\n",
              "  </thead>\n",
              "  <tbody>\n",
              "    <tr>\n",
              "      <th>0</th>\n",
              "      <td>0</td>\n",
              "      <td>@AounJon if you can't admit it's a positive no...</td>\n",
              "      <td>1.0</td>\n",
              "    </tr>\n",
              "    <tr>\n",
              "      <th>1</th>\n",
              "      <td>1</td>\n",
              "      <td>@RURALINDIA @bainjal oh wow wen we hit hard in...</td>\n",
              "      <td>1.0</td>\n",
              "    </tr>\n",
              "    <tr>\n",
              "      <th>2</th>\n",
              "      <td>2</td>\n",
              "      <td>@DiaQuery @NameFieldmt @YearOfRat They shed le...</td>\n",
              "      <td>1.0</td>\n",
              "    </tr>\n",
              "    <tr>\n",
              "      <th>3</th>\n",
              "      <td>3</td>\n",
              "      <td>@vivelafra @LindaSuhler This is retarded. Just...</td>\n",
              "      <td>1.0</td>\n",
              "    </tr>\n",
              "    <tr>\n",
              "      <th>4</th>\n",
              "      <td>4</td>\n",
              "      <td>@_MrSp33dy_ @BTSpill @Pawmso @Average_AJ you k...</td>\n",
              "      <td>1.0</td>\n",
              "    </tr>\n",
              "  </tbody>\n",
              "</table>\n",
              "</div>"
            ],
            "text/plain": [
              "  index                                              tweet  hate_speech\n",
              "0     0  @AounJon if you can't admit it's a positive no...          1.0\n",
              "1     1  @RURALINDIA @bainjal oh wow wen we hit hard in...          1.0\n",
              "2     2  @DiaQuery @NameFieldmt @YearOfRat They shed le...          1.0\n",
              "3     3  @vivelafra @LindaSuhler This is retarded. Just...          1.0\n",
              "4     4  @_MrSp33dy_ @BTSpill @Pawmso @Average_AJ you k...          1.0"
            ]
          },
          "metadata": {
            "tags": []
          },
          "execution_count": 3
        }
      ]
    },
    {
      "cell_type": "code",
      "metadata": {
        "colab": {
          "base_uri": "https://localhost:8080/"
        },
        "id": "uCQYdlL9gXaA",
        "outputId": "ba5a4d9b-4f1d-4b5e-9ba4-121ee61d38f8"
      },
      "source": [
        "# Modify Hatespeech 1\n",
        "hatespeech1 = data_hatespeech_1.drop(['Unnamed: 0','count','neither','class'],axis='columns')\n",
        "for i in range(hatespeech1.shape[0]):\n",
        "  if hatespeech1.loc[i,\"hate_speech\"] > 0:\n",
        "    hatespeech1.loc[i,\"hate_speech\"] = 1\n",
        "  if hatespeech1.loc[i,\"offensive_language\"] > 3: # If the offensive language column reads greater than 3, we're classifying as hate speech (can discuss this)\n",
        "    hatespeech1.loc[i,\"hate_speech\"] = 1\n",
        "hatespeech1 = hatespeech1.drop(['offensive_language'],axis='columns')\n",
        "hatespeech1 = hatespeech1.rename(columns={\"hate_speech\": \"label\"})\n",
        "print(hatespeech1.head(10))\n",
        "\n",
        "# Modify Hatespeech 2\n",
        "data_hatespeech2_idx = data_hatespeech_2.rename(columns={\"hate_speech\": \"label\"})\n",
        "data_hatespeech2 = data_hatespeech2_idx.drop(['index'],axis='columns')\n",
        "print(data_hatespeech2.head(10))\n",
        "\n",
        "# Concatenate the two hatespeech datasets:\n",
        "hatespeech_final = pd.concat([hatespeech1, data_hatespeech2],ignore_index=True)\n"
      ],
      "execution_count": null,
      "outputs": [
        {
          "output_type": "stream",
          "text": [
            "   label                                              tweet\n",
            "0      0  !!! RT @mayasolovely: As a woman you shouldn't...\n",
            "1      0  !!!!! RT @mleew17: boy dats cold...tyga dwn ba...\n",
            "2      0  !!!!!!! RT @UrKindOfBrand Dawg!!!! RT @80sbaby...\n",
            "3      0  !!!!!!!!! RT @C_G_Anderson: @viva_based she lo...\n",
            "4      1  !!!!!!!!!!!!! RT @ShenikaRoberts: The shit you...\n",
            "5      1  !!!!!!!!!!!!!!!!!!\"@T_Madison_x: The shit just...\n",
            "6      0  !!!!!!\"@__BrighterDays: I can not just sit up ...\n",
            "7      0  !!!!&#8220;@selfiequeenbri: cause I'm tired of...\n",
            "8      0  \" &amp; you might not get ya bitch back &amp; ...\n",
            "9      1  \" @rhythmixx_ :hobbies include: fighting Maria...\n",
            "                                               tweet  label\n",
            "0  @AounJon if you can't admit it's a positive no...    1.0\n",
            "1  @RURALINDIA @bainjal oh wow wen we hit hard in...    1.0\n",
            "2  @DiaQuery @NameFieldmt @YearOfRat They shed le...    1.0\n",
            "3  @vivelafra @LindaSuhler This is retarded. Just...    1.0\n",
            "4  @_MrSp33dy_ @BTSpill @Pawmso @Average_AJ you k...    1.0\n",
            "5  @stephenasmith You sound Retarded, BRON DID TH...    1.0\n",
            "6             @ViewsFromJsnake your fucking retarded    1.0\n",
            "7  @FuckJTL @PzDamo @xCeVs @unbIush I didn't thin...    1.0\n",
            "8  @joegeorge00_ lol now u being retarded goodbye...    1.0\n",
            "9  @fioses @guided_ are you retarded holy shit I'...    1.0\n"
          ],
          "name": "stdout"
        }
      ]
    },
    {
      "cell_type": "code",
      "metadata": {
        "id": "NhEYG9bThmXE"
      },
      "source": [
        "hatespeech_final.to_csv(data_path + '/hatespeech/combined_hatespeech_data.csv', index=False)"
      ],
      "execution_count": null,
      "outputs": []
    }
  ]
}